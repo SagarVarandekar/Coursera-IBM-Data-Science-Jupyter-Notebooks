{
 "cells": [
  {
   "cell_type": "markdown",
   "metadata": {},
   "source": [
    "<center>\n",
    "    <img src=\"https://s3-api.us-geo.objectstorage.softlayer.net/cf-courses-data/CognitiveClass/Logos/organization_logo/organization_logo.png\" width=\"300\" alt=\"cognitiveclass.ai logo\"  />\n",
    "</center>\n",
    "\n",
    "# Connect to Db2 database on Cloud using Python\n",
    "\n",
    "Estimated time needed: **15** minutes\n",
    "\n",
    "## Objectives\n",
    "\n",
    "After completing this lab you will be able to:\n",
    "\n",
    "*   Import the ibm_db Python library\n",
    "*   Enter the database connection credentials\n",
    "*   Create the database connection\n",
    "*   Close the database connection\n"
   ]
  },
  {
   "cell_type": "markdown",
   "metadata": {},
   "source": [
    "**Note:** Please follow the instructions given in the first Lab of this course to Create a database service instance of Db2 on Cloud and retrieve your database Service Credentials.\n",
    "\n",
    "## Import the `ibm_db` Python library\n",
    "\n",
    "The `ibm_db` [API ](https://pypi.python.org/pypi/ibm_db/?utm_medium=Exinfluencer&utm_source=Exinfluencer&utm_content=000026UJ&utm_term=10006555&utm_id=NA-SkillsNetwork-Channel-SkillsNetworkCoursesIBMDeveloperSkillsNetworkDB0201ENSkillsNetwork20127838-2021-01-01) provides a variety of useful Python functions for accessing and manipulating data in an IBM® data server database, including functions for connecting to a database, preparing and issuing SQL statements, fetching rows from result sets, calling stored procedures, committing and rolling back transactions, handling errors, and retrieving metadata.\n",
    "\n",
    "We first import the ibm_db library into our Python Application\n",
    "\n",
    "Execute the following cell by clicking within it and then\n",
    "press `Shift` and `Enter` keys simultaneously\n"
   ]
  },
  {
   "cell_type": "code",
   "execution_count": 3,
   "metadata": {},
   "outputs": [
    {
     "name": "stdout",
     "output_type": "stream",
     "text": [
      "Collecting package metadata (current_repodata.json): ...working... done\n",
      "Note: you may need to restart the kernel to use updated packages.\n",
      "Solving environment: ...working... done\n",
      "\n",
      "## Package Plan ##\n",
      "\n",
      "  environment location: C:\\Users\\Acer\\anaconda3\n",
      "\n",
      "  added / updated specs:\n",
      "    - ibm_db\n",
      "\n",
      "\n",
      "\n",
      "The following packages will be downloaded:\n",
      "\n",
      "    package                    |            build\n",
      "    ---------------------------|-----------------\n",
      "    conda-4.10.3               |   py38haa244fe_0         3.1 MB  conda-forge\n",
      "    ibm_db-3.0.4               |   py38ha169d2c_0        24.2 MB  conda-forge\n",
      "    python_abi-3.8             |           2_cp38           4 KB  conda-forge\n",
      "    ------------------------------------------------------------\n",
      "                                           Total:        27.3 MB\n",
      "\n",
      "The following NEW packages will be INSTALLED:\n",
      "\n",
      "  ibm_db             conda-forge/win-64::ibm_db-3.0.4-py38ha169d2c_0\n",
      "  python_abi         conda-forge/win-64::python_abi-3.8-2_cp38\n",
      "\n",
      "The following packages will be SUPERSEDED by a higher-priority channel:\n",
      "\n",
      "  conda              pkgs/main::conda-4.10.3-py38haa95532_0 --> conda-forge::conda-4.10.3-py38haa244fe_0\n",
      "\n",
      "\n",
      "\n",
      "Downloading and Extracting Packages\n",
      "\n",
      "ibm_db-3.0.4         | 24.2 MB   |            |   0% \n",
      "ibm_db-3.0.4         | 24.2 MB   |            |   0% \n",
      "ibm_db-3.0.4         | 24.2 MB   |            |   0% \n",
      "ibm_db-3.0.4         | 24.2 MB   |            |   0% \n",
      "ibm_db-3.0.4         | 24.2 MB   |            |   0% \n",
      "ibm_db-3.0.4         | 24.2 MB   |            |   1% \n",
      "ibm_db-3.0.4         | 24.2 MB   | 1          |   2% \n",
      "ibm_db-3.0.4         | 24.2 MB   | 2          |   2% \n",
      "ibm_db-3.0.4         | 24.2 MB   | 2          |   3% \n",
      "ibm_db-3.0.4         | 24.2 MB   | 3          |   3% \n",
      "ibm_db-3.0.4         | 24.2 MB   | 3          |   4% \n",
      "ibm_db-3.0.4         | 24.2 MB   | 4          |   5% \n",
      "ibm_db-3.0.4         | 24.2 MB   | 5          |   5% \n",
      "ibm_db-3.0.4         | 24.2 MB   | 5          |   6% \n",
      "ibm_db-3.0.4         | 24.2 MB   | 6          |   6% \n",
      "ibm_db-3.0.4         | 24.2 MB   | 6          |   7% \n",
      "ibm_db-3.0.4         | 24.2 MB   | 7          |   7% \n",
      "ibm_db-3.0.4         | 24.2 MB   | 7          |   8% \n",
      "ibm_db-3.0.4         | 24.2 MB   | 8          |   8% \n",
      "ibm_db-3.0.4         | 24.2 MB   | 8          |   8% \n",
      "ibm_db-3.0.4         | 24.2 MB   | 8          |   9% \n",
      "ibm_db-3.0.4         | 24.2 MB   | 9          |  10% \n",
      "ibm_db-3.0.4         | 24.2 MB   | #          |  10% \n",
      "ibm_db-3.0.4         | 24.2 MB   | #          |  11% \n",
      "ibm_db-3.0.4         | 24.2 MB   | #1         |  11% \n",
      "ibm_db-3.0.4         | 24.2 MB   | #1         |  12% \n",
      "ibm_db-3.0.4         | 24.2 MB   | #2         |  12% \n",
      "ibm_db-3.0.4         | 24.2 MB   | #2         |  13% \n",
      "ibm_db-3.0.4         | 24.2 MB   | #3         |  13% \n",
      "ibm_db-3.0.4         | 24.2 MB   | #3         |  14% \n",
      "ibm_db-3.0.4         | 24.2 MB   | #4         |  15% \n",
      "ibm_db-3.0.4         | 24.2 MB   | #5         |  15% \n",
      "ibm_db-3.0.4         | 24.2 MB   | #5         |  16% \n",
      "ibm_db-3.0.4         | 24.2 MB   | #6         |  16% \n",
      "ibm_db-3.0.4         | 24.2 MB   | #6         |  17% \n",
      "ibm_db-3.0.4         | 24.2 MB   | #7         |  17% \n",
      "ibm_db-3.0.4         | 24.2 MB   | #8         |  19% \n",
      "ibm_db-3.0.4         | 24.2 MB   | #9         |  19% \n",
      "ibm_db-3.0.4         | 24.2 MB   | #9         |  20% \n",
      "ibm_db-3.0.4         | 24.2 MB   | ##         |  20% \n",
      "ibm_db-3.0.4         | 24.2 MB   | ##1        |  21% \n",
      "ibm_db-3.0.4         | 24.2 MB   | ##1        |  22% \n",
      "ibm_db-3.0.4         | 24.2 MB   | ##2        |  22% \n",
      "ibm_db-3.0.4         | 24.2 MB   | ##2        |  23% \n",
      "ibm_db-3.0.4         | 24.2 MB   | ##3        |  23% \n",
      "ibm_db-3.0.4         | 24.2 MB   | ##3        |  24% \n",
      "ibm_db-3.0.4         | 24.2 MB   | ##4        |  24% \n",
      "ibm_db-3.0.4         | 24.2 MB   | ##4        |  25% \n",
      "ibm_db-3.0.4         | 24.2 MB   | ##4        |  25% \n",
      "ibm_db-3.0.4         | 24.2 MB   | ##5        |  25% \n",
      "ibm_db-3.0.4         | 24.2 MB   | ##5        |  26% \n",
      "ibm_db-3.0.4         | 24.2 MB   | ##6        |  26% \n",
      "ibm_db-3.0.4         | 24.2 MB   | ##7        |  27% \n",
      "ibm_db-3.0.4         | 24.2 MB   | ##7        |  27% \n",
      "ibm_db-3.0.4         | 24.2 MB   | ##7        |  28% \n",
      "ibm_db-3.0.4         | 24.2 MB   | ##8        |  28% \n",
      "ibm_db-3.0.4         | 24.2 MB   | ##8        |  28% \n",
      "ibm_db-3.0.4         | 24.2 MB   | ##8        |  29% \n",
      "ibm_db-3.0.4         | 24.2 MB   | ##9        |  29% \n",
      "ibm_db-3.0.4         | 24.2 MB   | ##9        |  30% \n",
      "ibm_db-3.0.4         | 24.2 MB   | ###        |  30% \n",
      "ibm_db-3.0.4         | 24.2 MB   | ###        |  30% \n",
      "ibm_db-3.0.4         | 24.2 MB   | ###        |  31% \n",
      "ibm_db-3.0.4         | 24.2 MB   | ###        |  31% \n",
      "ibm_db-3.0.4         | 24.2 MB   | ###1       |  31% \n",
      "ibm_db-3.0.4         | 24.2 MB   | ###1       |  31% \n",
      "ibm_db-3.0.4         | 24.2 MB   | ###1       |  32% \n",
      "ibm_db-3.0.4         | 24.2 MB   | ###1       |  32% \n",
      "ibm_db-3.0.4         | 24.2 MB   | ###2       |  32% \n",
      "ibm_db-3.0.4         | 24.2 MB   | ###2       |  33% \n",
      "ibm_db-3.0.4         | 24.2 MB   | ###3       |  33% \n",
      "ibm_db-3.0.4         | 24.2 MB   | ###3       |  34% \n",
      "ibm_db-3.0.4         | 24.2 MB   | ###4       |  34% \n",
      "ibm_db-3.0.4         | 24.2 MB   | ###4       |  35% \n",
      "ibm_db-3.0.4         | 24.2 MB   | ###5       |  35% \n",
      "ibm_db-3.0.4         | 24.2 MB   | ###5       |  36% \n",
      "ibm_db-3.0.4         | 24.2 MB   | ###6       |  36% \n",
      "ibm_db-3.0.4         | 24.2 MB   | ###6       |  37% \n",
      "ibm_db-3.0.4         | 24.2 MB   | ###7       |  37% \n",
      "ibm_db-3.0.4         | 24.2 MB   | ###7       |  38% \n",
      "ibm_db-3.0.4         | 24.2 MB   | ###8       |  38% \n",
      "ibm_db-3.0.4         | 24.2 MB   | ###8       |  39% \n",
      "ibm_db-3.0.4         | 24.2 MB   | ###8       |  39% \n",
      "ibm_db-3.0.4         | 24.2 MB   | ###9       |  40% \n",
      "ibm_db-3.0.4         | 24.2 MB   | ####       |  40% \n",
      "ibm_db-3.0.4         | 24.2 MB   | ####       |  41% \n",
      "ibm_db-3.0.4         | 24.2 MB   | ####1      |  41% \n",
      "ibm_db-3.0.4         | 24.2 MB   | ####1      |  42% \n",
      "ibm_db-3.0.4         | 24.2 MB   | ####2      |  42% \n",
      "ibm_db-3.0.4         | 24.2 MB   | ####2      |  43% \n",
      "ibm_db-3.0.4         | 24.2 MB   | ####3      |  43% \n",
      "ibm_db-3.0.4         | 24.2 MB   | ####3      |  44% \n",
      "ibm_db-3.0.4         | 24.2 MB   | ####4      |  44% \n",
      "ibm_db-3.0.4         | 24.2 MB   | ####4      |  45% \n",
      "ibm_db-3.0.4         | 24.2 MB   | ####4      |  45% \n",
      "ibm_db-3.0.4         | 24.2 MB   | ####5      |  45% \n",
      "ibm_db-3.0.4         | 24.2 MB   | ####5      |  46% \n",
      "ibm_db-3.0.4         | 24.2 MB   | ####6      |  46% \n",
      "ibm_db-3.0.4         | 24.2 MB   | ####6      |  47% \n",
      "ibm_db-3.0.4         | 24.2 MB   | ####7      |  47% \n",
      "ibm_db-3.0.4         | 24.2 MB   | ####8      |  48% \n",
      "ibm_db-3.0.4         | 24.2 MB   | ####8      |  49% \n",
      "ibm_db-3.0.4         | 24.2 MB   | ####9      |  49% \n",
      "ibm_db-3.0.4         | 24.2 MB   | ####9      |  50% \n",
      "ibm_db-3.0.4         | 24.2 MB   | #####      |  50% \n",
      "ibm_db-3.0.4         | 24.2 MB   | #####      |  51% \n",
      "ibm_db-3.0.4         | 24.2 MB   | #####1     |  51% \n",
      "ibm_db-3.0.4         | 24.2 MB   | #####1     |  52% \n",
      "ibm_db-3.0.4         | 24.2 MB   | #####2     |  52% \n",
      "ibm_db-3.0.4         | 24.2 MB   | #####2     |  53% \n",
      "ibm_db-3.0.4         | 24.2 MB   | #####3     |  53% \n",
      "ibm_db-3.0.4         | 24.2 MB   | #####4     |  54% \n",
      "ibm_db-3.0.4         | 24.2 MB   | #####4     |  55% \n",
      "ibm_db-3.0.4         | 24.2 MB   | #####5     |  55% \n",
      "ibm_db-3.0.4         | 24.2 MB   | #####5     |  56% \n",
      "ibm_db-3.0.4         | 24.2 MB   | #####5     |  56% \n",
      "ibm_db-3.0.4         | 24.2 MB   | #####6     |  56% \n",
      "ibm_db-3.0.4         | 24.2 MB   | #####6     |  57% \n",
      "ibm_db-3.0.4         | 24.2 MB   | #####7     |  57% \n",
      "ibm_db-3.0.4         | 24.2 MB   | #####7     |  58% \n",
      "ibm_db-3.0.4         | 24.2 MB   | #####8     |  58% \n",
      "ibm_db-3.0.4         | 24.2 MB   | #####8     |  59% \n",
      "ibm_db-3.0.4         | 24.2 MB   | #####9     |  59% \n",
      "ibm_db-3.0.4         | 24.2 MB   | #####9     |  60% \n",
      "ibm_db-3.0.4         | 24.2 MB   | ######     |  60% \n",
      "ibm_db-3.0.4         | 24.2 MB   | ######     |  61% \n",
      "ibm_db-3.0.4         | 24.2 MB   | ######     |  61% \n",
      "ibm_db-3.0.4         | 24.2 MB   | ######1    |  61% \n",
      "ibm_db-3.0.4         | 24.2 MB   | ######1    |  62% \n",
      "ibm_db-3.0.4         | 24.2 MB   | ######1    |  62% \n",
      "ibm_db-3.0.4         | 24.2 MB   | ######2    |  62% \n",
      "ibm_db-3.0.4         | 24.2 MB   | ######2    |  63% \n",
      "ibm_db-3.0.4         | 24.2 MB   | ######2    |  63% \n",
      "ibm_db-3.0.4         | 24.2 MB   | ######3    |  63% \n",
      "ibm_db-3.0.4         | 24.2 MB   | ######3    |  64% \n",
      "ibm_db-3.0.4         | 24.2 MB   | ######3    |  64% \n",
      "ibm_db-3.0.4         | 24.2 MB   | ######4    |  64% \n",
      "ibm_db-3.0.4         | 24.2 MB   | ######4    |  65% \n",
      "ibm_db-3.0.4         | 24.2 MB   | ######5    |  65% \n",
      "ibm_db-3.0.4         | 24.2 MB   | ######5    |  66% \n",
      "ibm_db-3.0.4         | 24.2 MB   | ######6    |  67% \n",
      "ibm_db-3.0.4         | 24.2 MB   | ######7    |  67% \n",
      "ibm_db-3.0.4         | 24.2 MB   | ######7    |  68% \n",
      "ibm_db-3.0.4         | 24.2 MB   | ######8    |  68% \n",
      "ibm_db-3.0.4         | 24.2 MB   | ######8    |  69% \n",
      "ibm_db-3.0.4         | 24.2 MB   | ######9    |  69% \n",
      "ibm_db-3.0.4         | 24.2 MB   | ######9    |  70% \n",
      "ibm_db-3.0.4         | 24.2 MB   | #######    |  70% \n",
      "ibm_db-3.0.4         | 24.2 MB   | #######    |  71% \n",
      "ibm_db-3.0.4         | 24.2 MB   | #######1   |  71% \n",
      "ibm_db-3.0.4         | 24.2 MB   | #######1   |  72% \n",
      "ibm_db-3.0.4         | 24.2 MB   | #######2   |  72% \n",
      "ibm_db-3.0.4         | 24.2 MB   | #######2   |  73% \n",
      "ibm_db-3.0.4         | 24.2 MB   | #######3   |  73% \n",
      "ibm_db-3.0.4         | 24.2 MB   | #######3   |  74% \n",
      "ibm_db-3.0.4         | 24.2 MB   | #######4   |  75% \n",
      "ibm_db-3.0.4         | 24.2 MB   | #######5   |  75% \n",
      "ibm_db-3.0.4         | 24.2 MB   | #######5   |  75% \n",
      "ibm_db-3.0.4         | 24.2 MB   | #######5   |  76% \n",
      "ibm_db-3.0.4         | 24.2 MB   | #######6   |  76% \n",
      "ibm_db-3.0.4         | 24.2 MB   | #######6   |  77% \n",
      "ibm_db-3.0.4         | 24.2 MB   | #######7   |  77% \n",
      "ibm_db-3.0.4         | 24.2 MB   | #######7   |  78% \n",
      "ibm_db-3.0.4         | 24.2 MB   | #######8   |  78% \n",
      "ibm_db-3.0.4         | 24.2 MB   | #######8   |  79% \n",
      "ibm_db-3.0.4         | 24.2 MB   | #######9   |  79% \n",
      "ibm_db-3.0.4         | 24.2 MB   | #######9   |  80% \n",
      "ibm_db-3.0.4         | 24.2 MB   | ########   |  80% \n",
      "ibm_db-3.0.4         | 24.2 MB   | ########   |  81% \n",
      "ibm_db-3.0.4         | 24.2 MB   | ########1  |  81% \n",
      "ibm_db-3.0.4         | 24.2 MB   | ########1  |  82% \n",
      "ibm_db-3.0.4         | 24.2 MB   | ########2  |  82% \n",
      "ibm_db-3.0.4         | 24.2 MB   | ########2  |  82% \n",
      "ibm_db-3.0.4         | 24.2 MB   | ########2  |  83% \n",
      "ibm_db-3.0.4         | 24.2 MB   | ########3  |  83% \n",
      "ibm_db-3.0.4         | 24.2 MB   | ########3  |  84% \n",
      "ibm_db-3.0.4         | 24.2 MB   | ########3  |  84% \n",
      "ibm_db-3.0.4         | 24.2 MB   | ########4  |  84% \n",
      "ibm_db-3.0.4         | 24.2 MB   | ########5  |  85% \n",
      "ibm_db-3.0.4         | 24.2 MB   | ########5  |  86% \n",
      "ibm_db-3.0.4         | 24.2 MB   | ########6  |  86% \n",
      "ibm_db-3.0.4         | 24.2 MB   | ########6  |  87% \n",
      "ibm_db-3.0.4         | 24.2 MB   | ########7  |  87% \n",
      "ibm_db-3.0.4         | 24.2 MB   | ########7  |  88% \n",
      "ibm_db-3.0.4         | 24.2 MB   | ########8  |  88% \n",
      "ibm_db-3.0.4         | 24.2 MB   | ########8  |  89% \n",
      "ibm_db-3.0.4         | 24.2 MB   | ########9  |  89% \n",
      "ibm_db-3.0.4         | 24.2 MB   | ########9  |  90% \n",
      "ibm_db-3.0.4         | 24.2 MB   | #########  |  91% \n",
      "ibm_db-3.0.4         | 24.2 MB   | #########1 |  91% \n",
      "ibm_db-3.0.4         | 24.2 MB   | #########1 |  92% \n",
      "ibm_db-3.0.4         | 24.2 MB   | #########2 |  92% \n",
      "ibm_db-3.0.4         | 24.2 MB   | #########2 |  93% \n",
      "ibm_db-3.0.4         | 24.2 MB   | #########3 |  93% \n",
      "ibm_db-3.0.4         | 24.2 MB   | #########3 |  94% \n",
      "ibm_db-3.0.4         | 24.2 MB   | #########4 |  95% \n",
      "ibm_db-3.0.4         | 24.2 MB   | #########5 |  95% \n",
      "ibm_db-3.0.4         | 24.2 MB   | #########5 |  96% \n",
      "ibm_db-3.0.4         | 24.2 MB   | #########6 |  96% \n",
      "ibm_db-3.0.4         | 24.2 MB   | #########6 |  96% \n",
      "ibm_db-3.0.4         | 24.2 MB   | #########7 |  97% \n",
      "ibm_db-3.0.4         | 24.2 MB   | #########7 |  98% \n",
      "ibm_db-3.0.4         | 24.2 MB   | #########8 |  98% \n",
      "ibm_db-3.0.4         | 24.2 MB   | #########8 |  99% \n",
      "ibm_db-3.0.4         | 24.2 MB   | #########9 |  99% \n",
      "ibm_db-3.0.4         | 24.2 MB   | #########9 | 100% \n",
      "ibm_db-3.0.4         | 24.2 MB   | ########## | 100% \n",
      "\n",
      "python_abi-3.8       | 4 KB      |            |   0% \n",
      "python_abi-3.8       | 4 KB      | ########## | 100% \n",
      "\n",
      "conda-4.10.3         | 3.1 MB    |            |   0% \n",
      "conda-4.10.3         | 3.1 MB    | 1          |   2% \n",
      "conda-4.10.3         | 3.1 MB    | 8          |   8% \n",
      "conda-4.10.3         | 3.1 MB    | #2         |  13% \n",
      "conda-4.10.3         | 3.1 MB    | #7         |  17% \n",
      "conda-4.10.3         | 3.1 MB    | ##1        |  22% \n",
      "conda-4.10.3         | 3.1 MB    | ##5        |  26% \n",
      "conda-4.10.3         | 3.1 MB    | ###        |  30% \n",
      "conda-4.10.3         | 3.1 MB    | ###4       |  34% \n",
      "conda-4.10.3         | 3.1 MB    | ###9       |  40% \n",
      "conda-4.10.3         | 3.1 MB    | ####4      |  45% \n",
      "conda-4.10.3         | 3.1 MB    | ####8      |  49% \n",
      "conda-4.10.3         | 3.1 MB    | #####2     |  52% \n",
      "conda-4.10.3         | 3.1 MB    | #####6     |  56% \n",
      "conda-4.10.3         | 3.1 MB    | #####9     |  60% \n",
      "conda-4.10.3         | 3.1 MB    | ######4    |  65% \n",
      "conda-4.10.3         | 3.1 MB    | ######8    |  69% \n",
      "conda-4.10.3         | 3.1 MB    | #######2   |  73% \n",
      "conda-4.10.3         | 3.1 MB    | #######7   |  78% \n",
      "conda-4.10.3         | 3.1 MB    | ########1  |  82% \n",
      "conda-4.10.3         | 3.1 MB    | ########5  |  86% \n",
      "conda-4.10.3         | 3.1 MB    | #########  |  90% \n",
      "conda-4.10.3         | 3.1 MB    | #########4 |  94% \n",
      "conda-4.10.3         | 3.1 MB    | #########7 |  98% \n",
      "conda-4.10.3         | 3.1 MB    | ########## | 100% \n",
      "Preparing transaction: ...working... done\n",
      "Verifying transaction: ...working... done\n",
      "Executing transaction: ...working... done\n"
     ]
    }
   ],
   "source": [
    "conda install -c conda-forge ibm_db"
   ]
  },
  {
   "cell_type": "code",
   "execution_count": 4,
   "metadata": {},
   "outputs": [],
   "source": [
    "import ibm_db"
   ]
  },
  {
   "cell_type": "markdown",
   "metadata": {},
   "source": [
    "When the command above completes, the `ibm_db` library is loaded in your notebook.\n",
    "\n",
    "## Identify the database connection credentials\n",
    "\n",
    "Connecting to dashDB or DB2 database requires the following information:\n",
    "\n",
    "*   Driver Name\n",
    "*   Database name\n",
    "*   Host DNS name or IP address\n",
    "*   Host port\n",
    "*   Connection protocol\n",
    "*   User ID (or username)\n",
    "*   User Password\n",
    "\n",
    "**Notice:** To obtain credentials please refer to the instructions given in the first Lab of this course\n",
    "\n",
    "Now enter your database credentials below and execute the cell with `Shift` + `Enter`\n"
   ]
  },
  {
   "cell_type": "code",
   "execution_count": 6,
   "metadata": {},
   "outputs": [],
   "source": [
    "#Replace the placeholder values with your actual Db2 hostname, username, and password:\n",
    "dsn_hostname = \"0c77d6f2-5da9-48a9-81f8-86b520b87518.bs2io90l08kqb1od8lcg.databases.appdomain.cloud\" # e.g.: \"54a2f15b-5c0f-46df-8954-7e38e612c2bd.c1ogj3sd0tgtu0lqde00.databases.appdomain.cloud\"\n",
    "dsn_uid = \"mrh08302\"        # e.g. \"abc12345\"\n",
    "dsn_pwd = \"I6mdpEadnV7z7oOP\"      # e.g. \"7dBZ3wWt9XN6$o0J\"\n",
    "\n",
    "dsn_driver = \"{IBM DB2 ODBC DRIVER}\"\n",
    "dsn_database = \"bludb\"            # e.g. \"BLUDB\"\n",
    "dsn_port = \"31198\"                # e.g. \"32733\" \n",
    "dsn_protocol = \"TCPIP\"            # i.e. \"TCPIP\"\n",
    "dsn_security = \"SSL\"              #i.e. \"SSL\""
   ]
  },
  {
   "cell_type": "markdown",
   "metadata": {},
   "source": [
    "## Create the DB2 database connection\n",
    "\n",
    "Ibm_db API uses the IBM Data Server Driver for ODBC and CLI APIs to connect to IBM DB2 and Informix.\n",
    "\n",
    "Lets build the dsn connection string using the credentials you entered above\n"
   ]
  },
  {
   "cell_type": "code",
   "execution_count": 7,
   "metadata": {},
   "outputs": [
    {
     "name": "stdout",
     "output_type": "stream",
     "text": [
      "DRIVER={IBM DB2 ODBC DRIVER};DATABASE=bludb;HOSTNAME=0c77d6f2-5da9-48a9-81f8-86b520b87518.bs2io90l08kqb1od8lcg.databases.appdomain.cloud;PORT=31198;PROTOCOL=TCPIP;UID=mrh08302;PWD=I6mdpEadnV7z7oOP;SECURITY=SSL;\n"
     ]
    }
   ],
   "source": [
    "#DO NOT MODIFY THIS CELL. Just RUN it with Shift + Enter\n",
    "#Create the dsn connection string\n",
    "dsn = (\n",
    "    \"DRIVER={0};\"\n",
    "    \"DATABASE={1};\"\n",
    "    \"HOSTNAME={2};\"\n",
    "    \"PORT={3};\"\n",
    "    \"PROTOCOL={4};\"\n",
    "    \"UID={5};\"\n",
    "    \"PWD={6};\"\n",
    "    \"SECURITY={7};\").format(dsn_driver, dsn_database, dsn_hostname, dsn_port, dsn_protocol, dsn_uid, dsn_pwd,dsn_security)\n",
    "\n",
    "#print the connection string to check correct values are specified\n",
    "print(dsn)"
   ]
  },
  {
   "cell_type": "markdown",
   "metadata": {},
   "source": [
    "Now establish the connection to the database\n"
   ]
  },
  {
   "cell_type": "code",
   "execution_count": 8,
   "metadata": {},
   "outputs": [
    {
     "name": "stdout",
     "output_type": "stream",
     "text": [
      "Connected to database:  bludb as user:  mrh08302 on host:  0c77d6f2-5da9-48a9-81f8-86b520b87518.bs2io90l08kqb1od8lcg.databases.appdomain.cloud\n"
     ]
    }
   ],
   "source": [
    "#DO NOT MODIFY THIS CELL. Just RUN it with Shift + Enter\n",
    "#Create database connection\n",
    "\n",
    "try:\n",
    "    conn = ibm_db.connect(dsn, \"\", \"\")\n",
    "    print (\"Connected to database: \", dsn_database, \"as user: \", dsn_uid, \"on host: \", dsn_hostname)\n",
    "\n",
    "except:\n",
    "    print (\"Unable to connect: \", ibm_db.conn_errormsg() )\n"
   ]
  },
  {
   "cell_type": "markdown",
   "metadata": {},
   "source": [
    "Congratulations if you were able to connect successfuly. Otherwise check the error and try again.\n"
   ]
  },
  {
   "cell_type": "code",
   "execution_count": 10,
   "metadata": {},
   "outputs": [
    {
     "name": "stdout",
     "output_type": "stream",
     "text": [
      "DBMS_NAME:  DB2/LINUXX8664\n",
      "DBMS_VER:   11.05.0500\n",
      "DB_NAME:    BLUDB\n"
     ]
    }
   ],
   "source": [
    "#Retrieve Metadata for the Database Server\n",
    "server = ibm_db.server_info(conn)\n",
    "\n",
    "print (\"DBMS_NAME: \", server.DBMS_NAME)\n",
    "print (\"DBMS_VER:  \", server.DBMS_VER)\n",
    "print (\"DB_NAME:   \", server.DB_NAME)"
   ]
  },
  {
   "cell_type": "code",
   "execution_count": 11,
   "metadata": {},
   "outputs": [
    {
     "name": "stdout",
     "output_type": "stream",
     "text": [
      "DRIVER_NAME:           DB2CLI.DLL\n",
      "DRIVER_VER:            11.05.0500\n",
      "DATA_SOURCE_NAME:      BLUDB\n",
      "DRIVER_ODBC_VER:       03.51\n",
      "ODBC_VER:              03.01.0000\n",
      "ODBC_SQL_CONFORMANCE:  EXTENDED\n",
      "APPL_CODEPAGE:         1252\n",
      "CONN_CODEPAGE:         1208\n"
     ]
    }
   ],
   "source": [
    "#Retrieve Metadata for the Database Client / Driver\n",
    "client = ibm_db.client_info(conn)\n",
    "\n",
    "print (\"DRIVER_NAME:          \", client.DRIVER_NAME) \n",
    "print (\"DRIVER_VER:           \", client.DRIVER_VER)\n",
    "print (\"DATA_SOURCE_NAME:     \", client.DATA_SOURCE_NAME)\n",
    "print (\"DRIVER_ODBC_VER:      \", client.DRIVER_ODBC_VER)\n",
    "print (\"ODBC_VER:             \", client.ODBC_VER)\n",
    "print (\"ODBC_SQL_CONFORMANCE: \", client.ODBC_SQL_CONFORMANCE)\n",
    "print (\"APPL_CODEPAGE:        \", client.APPL_CODEPAGE)\n",
    "print (\"CONN_CODEPAGE:        \", client.CONN_CODEPAGE)"
   ]
  },
  {
   "cell_type": "markdown",
   "metadata": {},
   "source": [
    "## Close the Connection\n",
    "\n",
    "We free all resources by closing the connection. Remember that it is always important to close connections so that we can avoid unused connections taking up resources.\n"
   ]
  },
  {
   "cell_type": "code",
   "execution_count": 12,
   "metadata": {},
   "outputs": [
    {
     "data": {
      "text/plain": [
       "True"
      ]
     },
     "execution_count": 12,
     "metadata": {},
     "output_type": "execute_result"
    }
   ],
   "source": [
    "ibm_db.close(conn)"
   ]
  },
  {
   "cell_type": "markdown",
   "metadata": {},
   "source": [
    "## Summary\n",
    "\n",
    "In this tutorial you established a connection to a DB2 database on Cloud database from a Python notebook using ibm_db API.\n"
   ]
  },
  {
   "cell_type": "markdown",
   "metadata": {},
   "source": [
    "## Author\n",
    "\n",
    "<a href=\"https://www.linkedin.com/in/ravahuja?utm_medium=Exinfluencer&utm_source=Exinfluencer&utm_content=000026UJ&utm_term=10006555&utm_id=NA-SkillsNetwork-Channel-SkillsNetworkCoursesIBMDeveloperSkillsNetworkDB0201ENSkillsNetwork20127838-2021-01-01\">Rav Ahuja</a>\n",
    "\n",
    "## Change Log\n",
    "\n",
    "| Date (YYYY-MM-DD) | Version | Changed By | Change Description                 |\n",
    "| ----------------- | ------- | ---------- | ---------------------------------- |\n",
    "| 2021-07-09        | 2.1     | Malika     | Updated the connection string      |\n",
    "| 2020-08-28        | 2.0     | Lavanya    | Moved lab to course repo in GitLab |\n",
    "\n",
    "<hr>\n",
    "\n",
    "## <h3 align=\"center\"> © IBM Corporation 2020. All rights reserved. <h3/>\n"
   ]
  }
 ],
 "metadata": {
  "kernelspec": {
   "display_name": "Python 3",
   "language": "python",
   "name": "python3"
  },
  "language_info": {
   "codemirror_mode": {
    "name": "ipython",
    "version": 3
   },
   "file_extension": ".py",
   "mimetype": "text/x-python",
   "name": "python",
   "nbconvert_exporter": "python",
   "pygments_lexer": "ipython3",
   "version": "3.8.8"
  },
  "widgets": {
   "state": {},
   "version": "1.1.2"
  }
 },
 "nbformat": 4,
 "nbformat_minor": 2
}
